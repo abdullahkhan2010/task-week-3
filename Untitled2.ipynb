{
 "cells": [
  {
   "cell_type": "code",
   "execution_count": 2,
   "id": "92159088",
   "metadata": {},
   "outputs": [
    {
     "name": "stdout",
     "output_type": "stream",
     "text": [
      "Enter numeric input86\n",
      "Enter string input98\n",
      "<class 'str'>\n",
      "<class 'int'>\n",
      "<class 'float'>\n"
     ]
    }
   ],
   "source": [
    "numeric_input=input(\"Enter numeric input\")\n",
    "string_input=input(\"Enter string input\")\n",
    "\n",
    "string_outcome=str(numeric_input)\n",
    "integer_outcome=int(string_input)\n",
    "float_outcome=float(string_input)\n",
    "print(type(string_outcome))\n",
    "print(type(integer_outcome))\n",
    "print(type(float_outcome))"
   ]
  },
  {
   "cell_type": "code",
   "execution_count": 6,
   "id": "35711157",
   "metadata": {},
   "outputs": [
    {
     "name": "stdout",
     "output_type": "stream",
     "text": [
      "The type of the date is now <class 'datetime.datetime'>\n",
      "The date is 2022-10-18 01:55:37\n"
     ]
    }
   ],
   "source": [
    "from datetime import datetime   #check\n",
    "\n",
    "date_time_str='18/10/22 01:55:37'   #check\n",
    "\n",
    "date_time_obj=datetime.strptime(date_time_str, '%d/%m/%y %H:%M:%S')  #check\n",
    "\n",
    "\n",
    "print(\"The type of the date is now\",type(date_time_obj))\n",
    "print(\"The date is\",date_time_obj)"
   ]
  },
  {
   "cell_type": "code",
   "execution_count": null,
   "id": "fed283f7",
   "metadata": {},
   "outputs": [],
   "source": []
  }
 ],
 "metadata": {
  "kernelspec": {
   "display_name": "Python 3 (ipykernel)",
   "language": "python",
   "name": "python3"
  },
  "language_info": {
   "codemirror_mode": {
    "name": "ipython",
    "version": 3
   },
   "file_extension": ".py",
   "mimetype": "text/x-python",
   "name": "python",
   "nbconvert_exporter": "python",
   "pygments_lexer": "ipython3",
   "version": "3.9.12"
  }
 },
 "nbformat": 4,
 "nbformat_minor": 5
}
